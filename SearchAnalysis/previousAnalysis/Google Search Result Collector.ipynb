{
 "cells": [
  {
   "cell_type": "markdown",
   "id": "0db98798",
   "metadata": {},
   "source": [
    "## Data Collection for Google\n",
    "### Scraper that fetches the top 10 articles from Google News for the given keywords"
   ]
  },
  {
   "cell_type": "markdown",
   "id": "23ca23f6",
   "metadata": {},
   "source": [
    "#### This notebook uses GNews and Newspaper3k to extract the following features:\n",
    "* Title of the article\n",
    "* URL of the article\n",
    "* Published Date\n",
    "* Publisher\n",
    "* Description shown in the Result Page\n",
    "* Entire Article as a HTML"
   ]
  },
  {
   "cell_type": "markdown",
   "id": "ce3f45ec",
   "metadata": {},
   "source": [
    "By default there are **30 keywords** for which the data is collected. These must be located in the same directory as this notebook, and be named as 'Capstone Keywords.csv'. The name can be change in the **Code Cell 3**."
   ]
  },
  {
   "cell_type": "code",
   "execution_count": 1,
   "id": "2bd62d56",
   "metadata": {},
   "outputs": [],
   "source": [
    "#Install the required packages.\n",
    "# Uncomment the lines to install the packages.\n",
    "\n",
    "#To get the news from Google\n",
    "# !pip install gnews\n",
    "\n",
    "#To scrape the links we obtain from gnews\n",
    "# !pip3 install newspaper3k"
   ]
  },
  {
   "cell_type": "code",
   "execution_count": 2,
   "id": "6ed099e8",
   "metadata": {},
   "outputs": [],
   "source": [
    "# Import the required libraries\n",
    "import csv\n",
    "from gnews import GNews\n",
    "# import pandas as pd\n",
    "from newspaper import Article\n",
    "from tqdm import tqdm"
   ]
  },
  {
   "cell_type": "code",
   "execution_count": 3,
   "id": "b312b70b",
   "metadata": {},
   "outputs": [],
   "source": [
    "# Initialize the list of keywords to analyze\n",
    "keyword_list = []\n",
    "\n",
    "# CSV file to access the keywords to analyze\n",
    "csv_for_keywords = 'Capstone Keywords.csv'\n",
    "\n",
    "# Access the keywords from the CSV file and create a list with it.\n",
    "with open(csv_for_keywords, newline='') as keywords_initial:\n",
    "    reader = csv.reader(keywords_initial)\n",
    "    for row in reader:\n",
    "        keyword_list.append(row[0])"
   ]
  },
  {
   "cell_type": "code",
   "execution_count": 4,
   "id": "18f8727c",
   "metadata": {},
   "outputs": [],
   "source": [
    "# Initialize the parameters for the Google News handler.\n",
    "chosen_country = 'United States'\n",
    "chosen_language = 'english'\n",
    "results_to_return = 10\n",
    "chosen_period = '3d'"
   ]
  },
  {
   "cell_type": "code",
   "execution_count": 5,
   "id": "29fa98f7",
   "metadata": {},
   "outputs": [],
   "source": [
    "# Change the paramters of the GNews object.\n",
    "news_handler = GNews()\n",
    "news_handler.country = chosen_country\n",
    "news_handler.language = chosen_language\n",
    "news_handler.max_results = results_to_return\n",
    "news_handler.period = chosen_period"
   ]
  },
  {
   "cell_type": "code",
   "execution_count": 6,
   "id": "f3b4f82c",
   "metadata": {},
   "outputs": [],
   "source": [
    "# Create a new CSV file to store the results\n",
    "file_write = open('raw_google.csv', 'w', newline='', encoding='UTF8')\n",
    "writer = csv.writer(file_write)"
   ]
  },
  {
   "cell_type": "markdown",
   "id": "0ceeb7a7",
   "metadata": {},
   "source": [
    "### Main Section\n",
    "The following code cell extracts the top 10 results from Google News, and inserts them to a CSV File.\n",
    "#### After running the cell, there should be a CSV file named \"raw_google.csv\" in the working directory.\n"
   ]
  },
  {
   "cell_type": "code",
   "execution_count": 7,
   "id": "c8370e22",
   "metadata": {},
   "outputs": [
    {
     "name": "stderr",
     "output_type": "stream",
     "text": [
      "Fetching Data from Google: 100%|███████████████████████████████████████████████████████| 30/30 [03:52<00:00,  7.76s/it]\n"
     ]
    }
   ],
   "source": [
    "# Header for the CSV file\n",
    "header_csv = ['keyword', 'title', 'url', 'published_date', 'publisher', 'description', 'entire_doc']\n",
    "writer.writerow(header_csv)\n",
    "temp_count = 0\n",
    "# Go through each of the keywords\n",
    "try:\n",
    "    for keyword in tqdm(keyword_list, desc = \"Fetching Data from Google\"):\n",
    "        # GNews object\n",
    "        news_return = news_handler.get_news(keyword)\n",
    "\n",
    "        # For each of the news, collect the required data and store in a list.\n",
    "        for news in news_return:\n",
    "            temp_list_results = []\n",
    "            temp_list_results.append(keyword)\n",
    "            temp_list_results.append(news['title'])\n",
    "            temp_list_results.append(news['url'])\n",
    "            temp_list_results.append(news['published date'])\n",
    "            temp_list_results.append(news['publisher']['title'])\n",
    "            temp_list_results.append(news['description'])\n",
    "            try:\n",
    "                # Access the text from the URL.\n",
    "                article = Article(news['url'])\n",
    "                article.download()\n",
    "                article.parse()\n",
    "                temp_list_results.append(article.text)\n",
    "            except:\n",
    "                temp_list_results.append('')\n",
    "            # Insert the list we created into the CSV file.\n",
    "            if temp_list_results[0] in keyword_list:\n",
    "                if temp_list_results[2][:4] == 'http':\n",
    "                    writer.writerow(temp_list_results)\n",
    "        temp_count += 1\n",
    "        # print (\"{}% complete\".format(round((temp_count/len(keyword_list)*100), 2)))\n",
    "    file_write.close()\n",
    "# Close the CSV file\n",
    "except:\n",
    "    file_write.close()"
   ]
  }
 ],
 "metadata": {
  "kernelspec": {
   "display_name": "Python 3",
   "language": "python",
   "name": "python3"
  },
  "language_info": {
   "codemirror_mode": {
    "name": "ipython",
    "version": 3
   },
   "file_extension": ".py",
   "mimetype": "text/x-python",
   "name": "python",
   "nbconvert_exporter": "python",
   "pygments_lexer": "ipython3",
   "version": "3.8.8"
  }
 },
 "nbformat": 4,
 "nbformat_minor": 5
}
