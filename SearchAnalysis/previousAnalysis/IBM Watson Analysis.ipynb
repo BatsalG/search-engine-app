{
 "cells": [
  {
   "cell_type": "markdown",
   "id": "7525c37c",
   "metadata": {},
   "source": [
    "## Data Analysis using IBM Watson's Natural Language Understanding\n",
    "### Using the data collected from Google and Bing News, analyze the sentiment and emotion behind the text."
   ]
  },
  {
   "cell_type": "code",
   "execution_count": 1,
   "id": "45f0bc21",
   "metadata": {},
   "outputs": [],
   "source": [
    "# !pip install pandas\n",
    "# !pip install --upgrade \"ibm-watson>=5.2.3\""
   ]
  },
  {
   "cell_type": "code",
   "execution_count": 2,
   "id": "adf2b4e8",
   "metadata": {},
   "outputs": [],
   "source": [
    "import json\n",
    "from ibm_watson import NaturalLanguageUnderstandingV1\n",
    "from ibm_cloud_sdk_core.authenticators import IAMAuthenticator\n",
    "from tqdm import tqdm\n",
    "from ibm_watson.natural_language_understanding_v1 import Features, EntitiesOptions, KeywordsOptions, SentimentOptions, CategoriesOptions, EmotionOptions\n",
    "import csv\n",
    "import pandas as pd"
   ]
  },
  {
   "cell_type": "code",
   "execution_count": 3,
   "id": "5a1b9df6",
   "metadata": {},
   "outputs": [],
   "source": [
    "def get_response_for_sentiment(natural_language_understanding, keyword, engine_url):\n",
    "    response = natural_language_understanding.analyze(\n",
    "        url= engine_url,\n",
    "        features=Features(\n",
    "            emotion=EmotionOptions(),\n",
    "            sentiment=SentimentOptions())).get_result()\n",
    "    return response"
   ]
  },
  {
   "cell_type": "code",
   "execution_count": 4,
   "id": "b759dce7",
   "metadata": {},
   "outputs": [],
   "source": [
    "def get_sentiment(response):\n",
    "    total_chars = response['usage']['text_characters']\n",
    "    doc_sentiment_num = response['sentiment']['document']['score']\n",
    "    doc_sentiment_label = response['sentiment']['document']['label']\n",
    "    sadness = response['emotion']['document']['emotion']['sadness']\n",
    "    joy = response['emotion']['document']['emotion']['joy']\n",
    "    fear = response['emotion']['document']['emotion']['fear']\n",
    "    disgust = response['emotion']['document']['emotion']['disgust']\n",
    "    anger = response['emotion']['document']['emotion']['anger']\n",
    "    return total_chars, doc_sentiment_num, doc_sentiment_label, sadness, joy, fear, disgust, anger"
   ]
  },
  {
   "cell_type": "code",
   "execution_count": 5,
   "id": "2e7e5e60",
   "metadata": {},
   "outputs": [],
   "source": [
    "def main(file_name, sentiment_file):\n",
    "    api = 'aEgAo9_wTdLPk1gklVeKHukDzkXp5gXote0yttpMPrC0'\n",
    "    url_ibm = 'https://api.eu-gb.natural-language-understanding.watson.cloud.ibm.com/instances/7fade06f-33fa-4aa6-8e0d-64acca721fa4'\n",
    "    authenticator = IAMAuthenticator(api)\n",
    "    natural_language_understanding = NaturalLanguageUnderstandingV1(\n",
    "        version='2021-03-25', \n",
    "        authenticator=authenticator)\n",
    "    natural_language_understanding.set_service_url(url_ibm)\n",
    "    csv_file = file_name\n",
    "    \n",
    "    python_csv = pd.read_csv(csv_file)\n",
    "    keyword = python_csv['keyword']\n",
    "    title = python_csv['title']\n",
    "    art_url = python_csv['url']\n",
    "    published_date = python_csv['published_date']\n",
    "    publisher = python_csv['publisher']\n",
    "    description = python_csv['description']\n",
    "    total_chars, doc_sentiment_num, doc_sentiment_label, sadness, joy, fear, disgust, anger = [], [], [], [], [], [], [], []\n",
    "    \n",
    "    file_write = open(sentiment_file, 'w', newline='', encoding='UTF8')\n",
    "    writer = csv.writer(file_write)\n",
    "    header_csv = ['keyword', 'title', 'url', 'published_date', 'publisher', 'description', 'total_chars', 'doc_sentiment_num', 'doc_sentiment_label', 'sadness', 'joy', 'fear', 'disgust', 'anger']\n",
    "    writer.writerow(header_csv)\n",
    "    \n",
    "    for i in tqdm(range(len(keyword)), desc = \"Analyzing Sentiment\"):\n",
    "        try:\n",
    "            res = get_response_for_sentiment(natural_language_understanding, keyword[i], art_url[i])\n",
    "            to_insert = [\n",
    "            keyword[i],\n",
    "            title[i],\n",
    "            art_url[i],\n",
    "            published_date[i],\n",
    "            publisher[i],\n",
    "            description[i],\n",
    "            get_sentiment(res)[0],\n",
    "            get_sentiment(res)[1],\n",
    "            get_sentiment(res)[2],\n",
    "            get_sentiment(res)[3],\n",
    "            get_sentiment(res)[4],\n",
    "            get_sentiment(res)[5],\n",
    "            get_sentiment(res)[6],\n",
    "            get_sentiment(res)[7]\n",
    "        ]\n",
    "        except:\n",
    "            to_insert = [\n",
    "            keyword[i],\n",
    "            title[i],\n",
    "            art_url[i],\n",
    "            published_date[i],\n",
    "            publisher[i],\n",
    "            description[i],'','','','','','','','']\n",
    "        writer.writerow(to_insert)"
   ]
  },
  {
   "cell_type": "code",
   "execution_count": 6,
   "id": "b333d66b",
   "metadata": {
    "scrolled": true
   },
   "outputs": [
    {
     "name": "stderr",
     "output_type": "stream",
     "text": [
      "Analyzing Sentiment: 100%|███████████████████████████████████████████████████████████| 300/300 [10:45<00:00,  2.15s/it]\n"
     ]
    }
   ],
   "source": [
    "main('raw_google.csv', 'google_with_sentiment.csv')"
   ]
  },
  {
   "cell_type": "code",
   "execution_count": 7,
   "id": "1bdc33b0",
   "metadata": {},
   "outputs": [
    {
     "name": "stderr",
     "output_type": "stream",
     "text": [
      "Analyzing Sentiment: 100%|███████████████████████████████████████████████████████████| 288/288 [08:11<00:00,  1.71s/it]\n"
     ]
    }
   ],
   "source": [
    "main('raw_bing.csv', 'bing_with_sentiment.csv')"
   ]
  },
  {
   "cell_type": "code",
   "execution_count": null,
   "id": "51172210",
   "metadata": {},
   "outputs": [],
   "source": []
  },
  {
   "cell_type": "code",
   "execution_count": null,
   "id": "c9ea0fdd",
   "metadata": {},
   "outputs": [],
   "source": []
  }
 ],
 "metadata": {
  "kernelspec": {
   "display_name": "Python 3",
   "language": "python",
   "name": "python3"
  },
  "language_info": {
   "codemirror_mode": {
    "name": "ipython",
    "version": 3
   },
   "file_extension": ".py",
   "mimetype": "text/x-python",
   "name": "python",
   "nbconvert_exporter": "python",
   "pygments_lexer": "ipython3",
   "version": "3.8.8"
  }
 },
 "nbformat": 4,
 "nbformat_minor": 5
}
