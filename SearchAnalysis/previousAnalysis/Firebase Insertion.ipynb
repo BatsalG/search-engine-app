{
 "cells": [
  {
   "cell_type": "markdown",
   "id": "22360f3e",
   "metadata": {},
   "source": [
    "## Insert the data into Firestore for posterity\n",
    "##### This data will be used for analysis in the main Capstone Paper, but not for the main analysis notebook.\n",
    "Inserts the data from IBM Watson, Google and Bing into Google Firestore.\n",
    "\n",
    "**Note**: Due to limited number of queries that Google Firestore allows, the application JSON will not be included in the repository, hence it is not possible to run this notebook.\n",
    "\n",
    "A Python script similar to this runs on a daily basis on Google Functions, and stores the data into Google Firestore."
   ]
  },
  {
   "cell_type": "code",
   "execution_count": 1,
   "id": "acf86df6",
   "metadata": {},
   "outputs": [],
   "source": [
    "#!pip install --upgrade firebase-admin\n",
    "#!pip install ibm-watson"
   ]
  },
  {
   "cell_type": "code",
   "execution_count": 2,
   "id": "1b508bb9",
   "metadata": {},
   "outputs": [],
   "source": [
    "import firebase_admin\n",
    "import csv\n",
    "import pandas as pd\n",
    "import os\n",
    "import json\n",
    "from dateutil import parser\n",
    "from ibm_watson import NaturalLanguageUnderstandingV1\n",
    "from ibm_cloud_sdk_core.authenticators import IAMAuthenticator\n",
    "from ibm_watson.natural_language_understanding_v1 import Features, EntitiesOptions, KeywordsOptions, SentimentOptions\n",
    "from firebase_admin import credentials, firestore\n",
    "from tqdm import tqdm\n",
    "import requests"
   ]
  },
  {
   "cell_type": "code",
   "execution_count": 3,
   "id": "4b747bdb",
   "metadata": {},
   "outputs": [],
   "source": [
    "curr_path = os.path.abspath(os.getcwd())\n",
    "cps_config_file = \"\\capstone-8ddb9-firebase-adminsdk-gx85u-8b516e44f1.json\"\n",
    "cps_config_path = curr_path + cps_config_file"
   ]
  },
  {
   "cell_type": "code",
   "execution_count": 4,
   "id": "32c59b8f",
   "metadata": {},
   "outputs": [],
   "source": [
    "cred = credentials.Certificate(cps_config_path)\n",
    "firebase_admin.initialize_app(cred)\n",
    "db = firestore.client()"
   ]
  },
  {
   "cell_type": "code",
   "execution_count": 5,
   "id": "1c9c3440",
   "metadata": {},
   "outputs": [],
   "source": [
    "#INSERT YOUR API PARAMS\n",
    "url_api = ''\n",
    "url_ibm = ''"
   ]
  },
  {
   "cell_type": "code",
   "execution_count": 6,
   "id": "429bff2f",
   "metadata": {},
   "outputs": [],
   "source": [
    "ibm_authenticator = IAMAuthenticator(url_api)\n",
    "natural_language_understanding = NaturalLanguageUnderstandingV1(\n",
    "    version='2021-03-25', \n",
    "    authenticator=ibm_authenticator)\n",
    "natural_language_understanding.set_service_url(url_ibm)\n"
   ]
  },
  {
   "cell_type": "code",
   "execution_count": 7,
   "id": "608873b9",
   "metadata": {},
   "outputs": [],
   "source": [
    "keyword_list_bing = []\n",
    "keyword_list_google = []\n",
    "try:\n",
    "    keyword_list_bing = pd.read_csv('bing.csv')\n",
    "except:\n",
    "    print (\"Couldn't find Bing file.\")\n",
    "\n",
    "try:\n",
    "    keyword_list_google = pd.read_csv('google_results.csv')\n",
    "except:\n",
    "    print (\"Couldn't find Google file.\")"
   ]
  },
  {
   "cell_type": "code",
   "execution_count": 8,
   "id": "8fc59f94",
   "metadata": {},
   "outputs": [],
   "source": [
    "def insert_to_firestore(keyword_list, db, csv_file, search_engine):\n",
    "    count = 0\n",
    "    for i in tqdm(range(len(keyword_list)), desc = \"Inserting Data to Firestore\"):\n",
    "        try:\n",
    "            try:\n",
    "                response = natural_language_understanding.analyze(\n",
    "                    url= keyword_list['url'][i],\n",
    "                    features=Features(sentiment=SentimentOptions(targets=[keyword_list['keyword'][i]]))).get_result()\n",
    "                document_sentiment = response['sentiment']['document']['score']\n",
    "                sentiment_label_document = response['sentiment']['document']['label']\n",
    "                keyword_sentiment = response['sentiment']['targets'][0]['score']\n",
    "                sentiment_label_keyword = response['sentiment']['targets'][0]['label']\n",
    "\n",
    "            except:\n",
    "                response = natural_language_understanding.analyze(\n",
    "                    url= keyword_list['url'][i],\n",
    "                    features=Features(sentiment=SentimentOptions())).get_result()\n",
    "                document_sentiment = response['sentiment']['document']['score']\n",
    "                sentiment_label_document = response['sentiment']['document']['label']\n",
    "                keyword_sentiment = None\n",
    "                sentiment_label_keyword = None\n",
    "        except:\n",
    "            response = natural_language_understanding.analyze(\n",
    "                text= keyword_list['description'][i],\n",
    "                features=Features(sentiment=SentimentOptions())).get_result()\n",
    "            document_sentiment = response['sentiment']['document']['score']\n",
    "            sentiment_label_document = response['sentiment']['document']['label']\n",
    "            keyword_sentiment = None\n",
    "            sentiment_label_keyword = None\n",
    "        count += 1\n",
    "        data_to_insert = {\n",
    "        'search_engine': search_engine,\n",
    "        'title': keyword_list['title'][i],\n",
    "        'url': keyword_list['url'][i],\n",
    "        'published_date': parser.parse(keyword_list['published_date'][i]),\n",
    "        'publisher': keyword_list['publisher'][i],\n",
    "        'description': keyword_list['description'][i],\n",
    "        'document_sentiment': document_sentiment,\n",
    "        'document_label': sentiment_label_document,\n",
    "        'keyword_sentiment': keyword_sentiment,\n",
    "        'keyword_label': sentiment_label_keyword\n",
    "        }\n",
    "\n",
    "        doc_ref = db.collection(keyword_list['keyword'][i]).document()\n",
    "        doc_ref.set(data_to_insert)\n",
    "        \n",
    "    os.remove(csv_file)"
   ]
  },
  {
   "cell_type": "code",
   "execution_count": 9,
   "id": "e9d126b0",
   "metadata": {},
   "outputs": [
    {
     "name": "stderr",
     "output_type": "stream",
     "text": [
      "Inserting Data to Firestore: 100%|███████████████████████████████████████████████████| 300/300 [16:42<00:00,  3.34s/it]\n"
     ]
    }
   ],
   "source": [
    "#insert_to_firestore(keyword_list_bing, db, 'bing.csv', 'bing')"
   ]
  },
  {
   "cell_type": "code",
   "execution_count": 1,
   "id": "29f337d3",
   "metadata": {},
   "outputs": [],
   "source": [
    "#insert_to_firestore(keyword_list_google, db, 'google_results.csv', 'google')"
   ]
  },
  {
   "cell_type": "code",
   "execution_count": null,
   "id": "79c78d57",
   "metadata": {},
   "outputs": [],
   "source": []
  }
 ],
 "metadata": {
  "kernelspec": {
   "display_name": "Python 3",
   "language": "python",
   "name": "python3"
  },
  "language_info": {
   "codemirror_mode": {
    "name": "ipython",
    "version": 3
   },
   "file_extension": ".py",
   "mimetype": "text/x-python",
   "name": "python",
   "nbconvert_exporter": "python",
   "pygments_lexer": "ipython3",
   "version": "3.8.8"
  }
 },
 "nbformat": 4,
 "nbformat_minor": 5
}
